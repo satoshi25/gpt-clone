{
 "cells": [
  {
   "cell_type": "code",
   "execution_count": 1,
   "id": "0c01476d",
   "metadata": {},
   "outputs": [
    {
     "name": "stdout",
     "output_type": "stream",
     "text": [
      "Agent updated to Assistant Agent\n",
      "====================\n",
      "{'arguments': '{\"city\":\"Madrid\"}', 'call_id': 'call_8Y4uRw6VTEB2T2k2qOkczFjp', 'name': 'get_weather', 'type': 'function_call', 'id': 'fc_072deecbe7ace51f00690233e0d8248190b9370fd3d673ecdb', 'status': 'completed'}\n",
      "====================\n",
      "Madrid\n",
      "30 degrees\n",
      "====================\n",
      "Hello! I'm doing well, thank you for asking. The weather in Madrid, the capital of Spain, is currently 30 degrees. Let me know if you need more detailed weather information or anything else!\n",
      "====================\n"
     ]
    }
   ],
   "source": [
    "from agents import Agent, Runner, function_tool, ItemHelpers\n",
    "\n",
    "@function_tool\n",
    "def get_weather(city:str):\n",
    "    \"\"\" Get weather by city \"\"\"\n",
    "    print(city)\n",
    "    return \"30 degrees\"\n",
    "\n",
    "# agent를 생성한다. 이름과 지침들을 적는다.\n",
    "agent = Agent(\n",
    "    name=\"Assistant Agent\",\n",
    "    instructions=\"You are a helpful assistant. Use tools when needed to answer questions\",\n",
    "    tools=[get_weather]\n",
    ")\n",
    "\n",
    "stream = Runner.run_streamed(agent, \"Hello how are you? What is the weather in the capital of Spain?\")\n",
    "\n",
    "async for event in stream.stream_events():\n",
    "    if event.type == \"raw_response_event\":\n",
    "        continue\n",
    "    elif event.type == \"agent_updated_stream_event\":\n",
    "        print(\"Agent updated to\", event.new_agent.name)\n",
    "    elif event.type == \"run_item_stream_event\":\n",
    "        if event.item.type == \"tool_call_item\":\n",
    "            print(event.item.raw_item.to_dict())\n",
    "        elif event.item.type == \"tool_call_output_item\":\n",
    "            print(event.item.output)\n",
    "        elif event.item.type == \"message_output_item\":\n",
    "            print(ItemHelpers.text_message_output(event.item))\n",
    "    print(\"=\" * 20)"
   ]
  },
  {
   "cell_type": "code",
   "execution_count": 5,
   "id": "915f0777",
   "metadata": {},
   "outputs": [
    {
     "name": "stdout",
     "output_type": "stream",
     "text": [
      "{\"\n",
      "{\"city\n",
      "{\"city\":\"\n",
      "{\"city\":\"Madrid\n",
      "{\"city\":\"Madrid\"}\n",
      "Madrid\n",
      "Hello\n",
      "Hello!\n",
      "Hello! I'm\n",
      "Hello! I'm doing\n",
      "Hello! I'm doing well\n",
      "Hello! I'm doing well,\n",
      "Hello! I'm doing well, thank\n",
      "Hello! I'm doing well, thank you\n",
      "Hello! I'm doing well, thank you.\n",
      "Hello! I'm doing well, thank you. The\n",
      "Hello! I'm doing well, thank you. The weather\n",
      "Hello! I'm doing well, thank you. The weather in\n",
      "Hello! I'm doing well, thank you. The weather in Madrid\n",
      "Hello! I'm doing well, thank you. The weather in Madrid,\n",
      "Hello! I'm doing well, thank you. The weather in Madrid, the\n",
      "Hello! I'm doing well, thank you. The weather in Madrid, the capital\n",
      "Hello! I'm doing well, thank you. The weather in Madrid, the capital of\n",
      "Hello! I'm doing well, thank you. The weather in Madrid, the capital of Spain\n",
      "Hello! I'm doing well, thank you. The weather in Madrid, the capital of Spain,\n",
      "Hello! I'm doing well, thank you. The weather in Madrid, the capital of Spain, is\n",
      "Hello! I'm doing well, thank you. The weather in Madrid, the capital of Spain, is currently\n",
      "Hello! I'm doing well, thank you. The weather in Madrid, the capital of Spain, is currently \n",
      "Hello! I'm doing well, thank you. The weather in Madrid, the capital of Spain, is currently 30\n",
      "Hello! I'm doing well, thank you. The weather in Madrid, the capital of Spain, is currently 30 degrees\n",
      "Hello! I'm doing well, thank you. The weather in Madrid, the capital of Spain, is currently 30 degrees.\n",
      "Hello! I'm doing well, thank you. The weather in Madrid, the capital of Spain, is currently 30 degrees. If\n",
      "Hello! I'm doing well, thank you. The weather in Madrid, the capital of Spain, is currently 30 degrees. If you\n",
      "Hello! I'm doing well, thank you. The weather in Madrid, the capital of Spain, is currently 30 degrees. If you need\n",
      "Hello! I'm doing well, thank you. The weather in Madrid, the capital of Spain, is currently 30 degrees. If you need more\n",
      "Hello! I'm doing well, thank you. The weather in Madrid, the capital of Spain, is currently 30 degrees. If you need more details\n",
      "Hello! I'm doing well, thank you. The weather in Madrid, the capital of Spain, is currently 30 degrees. If you need more details or\n",
      "Hello! I'm doing well, thank you. The weather in Madrid, the capital of Spain, is currently 30 degrees. If you need more details or a\n",
      "Hello! I'm doing well, thank you. The weather in Madrid, the capital of Spain, is currently 30 degrees. If you need more details or a forecast\n",
      "Hello! I'm doing well, thank you. The weather in Madrid, the capital of Spain, is currently 30 degrees. If you need more details or a forecast,\n",
      "Hello! I'm doing well, thank you. The weather in Madrid, the capital of Spain, is currently 30 degrees. If you need more details or a forecast, just\n",
      "Hello! I'm doing well, thank you. The weather in Madrid, the capital of Spain, is currently 30 degrees. If you need more details or a forecast, just let\n",
      "Hello! I'm doing well, thank you. The weather in Madrid, the capital of Spain, is currently 30 degrees. If you need more details or a forecast, just let me\n",
      "Hello! I'm doing well, thank you. The weather in Madrid, the capital of Spain, is currently 30 degrees. If you need more details or a forecast, just let me know\n",
      "Hello! I'm doing well, thank you. The weather in Madrid, the capital of Spain, is currently 30 degrees. If you need more details or a forecast, just let me know!\n"
     ]
    }
   ],
   "source": [
    "from agents import Agent, Runner, function_tool, ItemHelpers\n",
    "\n",
    "@function_tool\n",
    "def get_weather(city:str):\n",
    "    \"\"\" Get weather by city \"\"\"\n",
    "    print(city)\n",
    "    return \"30 degrees\"\n",
    "\n",
    "# agent를 생성한다. 이름과 지침들을 적는다.\n",
    "agent = Agent(\n",
    "    name=\"Assistant Agent\",\n",
    "    instructions=\"You are a helpful assistant. Use tools when needed to answer questions\",\n",
    "    tools=[get_weather]\n",
    ")\n",
    "\n",
    "stream = Runner.run_streamed(agent, \"Hello how are you? What is the weather in the capital of Spain?\")\n",
    "\n",
    "message = \"\"\n",
    "args = \"\"\n",
    "\n",
    "async for event in stream.stream_events():\n",
    "    if event.type == \"raw_response_event\":\n",
    "        event_type = event.data.type\n",
    "        if event_type == \"response.output_text.delta\":\n",
    "            message += event.data.delta\n",
    "            print(message)\n",
    "        elif event_type == \"response.function_call_arguments.delta\":\n",
    "            args += event.data.delta\n",
    "            print(args)\n",
    "        elif event_type == \"response.completed\":\n",
    "            message = \"\"\n",
    "            args = \"\""
   ]
  },
  {
   "cell_type": "code",
   "execution_count": 2,
   "id": "a3e21d05",
   "metadata": {},
   "outputs": [],
   "source": [
    "from agents import Agent, Runner, ItemHelpers, function_tool, SQLiteSession\n",
    "\n",
    "@function_tool\n",
    "def get_weather(city: str):\n",
    "    return \"30 degrees\"\n",
    "\n",
    "session = SQLiteSession(\"user_1\", \"ai-memory.db\")\n",
    "\n",
    "agent = Agent(\n",
    "    name=\"Assistant Agent\",\n",
    "    instructions=\"You are a helpful assistant. Use tools when needed to answer questions\",\n",
    "    tools=[get_weather]\n",
    ")"
   ]
  },
  {
   "cell_type": "code",
   "execution_count": 4,
   "id": "f24c2a2b",
   "metadata": {},
   "outputs": [
    {
     "name": "stdout",
     "output_type": "stream",
     "text": [
      "The weather in Valencia, which is the third biggest city in Spain, is currently 30 degrees Celsius. If you need more details or a forecast, let me know!\n"
     ]
    }
   ],
   "source": [
    "result = await Runner.run(\n",
    "    agent, \n",
    "    \"What is the weather in the third biggest city of the country I live on.\",\n",
    "    session=session\n",
    ")\n",
    "\"\"\"\n",
    "\"I live in Spain.\n",
    "What is the weather in the third biggest city of the country I live on.\"\n",
    "My name is woodice. \n",
    "What is the weather in the capital of Spain?\",\n",
    "\"\"\"\n",
    "print(result.final_output)"
   ]
  },
  {
   "cell_type": "code",
   "execution_count": 6,
   "id": "9484f7e9",
   "metadata": {},
   "outputs": [
    {
     "data": {
      "text/plain": [
       "'content'"
      ]
     },
     "execution_count": 6,
     "metadata": {},
     "output_type": "execute_result"
    }
   ],
   "source": [
    "await session.clear_session()\n",
    "\n",
    "await session.add_items(\n",
    "    {\"role\": \"user\", \"content\": \"My name is sam\"}\n",
    ")\n",
    "\n",
    "await session.pop_item() "
   ]
  },
  {
   "cell_type": "markdown",
   "id": "9c917807",
   "metadata": {},
   "source": []
  }
 ],
 "metadata": {
  "kernelspec": {
   "display_name": "chatgpt-clone (3.13.8)",
   "language": "python",
   "name": "python3"
  },
  "language_info": {
   "codemirror_mode": {
    "name": "ipython",
    "version": 3
   },
   "file_extension": ".py",
   "mimetype": "text/x-python",
   "name": "python",
   "nbconvert_exporter": "python",
   "pygments_lexer": "ipython3",
   "version": "3.13.8"
  }
 },
 "nbformat": 4,
 "nbformat_minor": 5
}
